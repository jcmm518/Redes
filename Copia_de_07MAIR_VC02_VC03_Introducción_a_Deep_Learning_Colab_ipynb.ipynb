{
  "nbformat": 4,
  "nbformat_minor": 0,
  "metadata": {
    "colab": {
      "name": "Copia de 07MAIR_VC02_VC03_Introducción a Deep Learning_Colab.ipynb.ipynb",
      "provenance": [],
      "collapsed_sections": [],
      "include_colab_link": true
    },
    "kernelspec": {
      "name": "python3",
      "display_name": "Python 3"
    },
    "accelerator": "GPU"
  },
  "cells": [
    {
      "cell_type": "markdown",
      "metadata": {
        "id": "view-in-github",
        "colab_type": "text"
      },
      "source": [
        "<a href=\"https://colab.research.google.com/github/jcmm518/Redes/blob/main/Copia_de_07MAIR_VC02_VC03_Introducci%C3%B3n_a_Deep_Learning_Colab_ipynb.ipynb\" target=\"_parent\"><img src=\"https://colab.research.google.com/assets/colab-badge.svg\" alt=\"Open In Colab\"/></a>"
      ]
    },
    {
      "cell_type": "markdown",
      "metadata": {
        "id": "e-Xr73DZ8CGE"
      },
      "source": [
        "## **NUESTRA PRIMERA RED NEURONAL: MNIST DATASET**"
      ]
    },
    {
      "cell_type": "code",
      "metadata": {
        "id": "76L_IBAfwr5y",
        "colab": {
          "base_uri": "https://localhost:8080/",
          "height": 35
        },
        "outputId": "867730d1-dee1-420a-8a63-bc47861e723e"
      },
      "source": [
        "#Importemos TensorFlow 2.X y Numpy\n",
        "import numpy as np\n",
        "import tensorflow as tf\n",
        "tf.__version__"
      ],
      "execution_count": null,
      "outputs": [
        {
          "output_type": "execute_result",
          "data": {
            "application/vnd.google.colaboratory.intrinsic+json": {
              "type": "string"
            },
            "text/plain": [
              "'2.4.1'"
            ]
          },
          "metadata": {
            "tags": []
          },
          "execution_count": 1
        }
      ]
    },
    {
      "cell_type": "markdown",
      "metadata": {
        "id": "Cm6TBi8k8pnq"
      },
      "source": [
        "#### **- Cargando el conjunto de datos**"
      ]
    },
    {
      "cell_type": "code",
      "metadata": {
        "id": "Q97EgDoewMWu",
        "colab": {
          "base_uri": "https://localhost:8080/"
        },
        "outputId": "d8cf19bb-4c4c-419e-e26e-b504f9f770fc"
      },
      "source": [
        "# Importamos el dataset MNIST y cargamos los datos\n",
        "mnist = tf.keras.datasets.mnist\n",
        "(x_train, y_train), (x_test, y_test) = mnist.load_data()\n",
        "print(x_train.shape)\n",
        "print(y_train.shape)\n",
        "print(x_test.shape)\n",
        "print(y_test.shape)"
      ],
      "execution_count": null,
      "outputs": [
        {
          "output_type": "stream",
          "text": [
            "Downloading data from https://storage.googleapis.com/tensorflow/tf-keras-datasets/mnist.npz\n",
            "11493376/11490434 [==============================] - 0s 0us/step\n",
            "(60000, 28, 28)\n",
            "(60000,)\n",
            "(10000, 28, 28)\n",
            "(10000,)\n"
          ],
          "name": "stdout"
        }
      ]
    },
    {
      "cell_type": "markdown",
      "metadata": {
        "id": "UHWTjTJe80h7"
      },
      "source": [
        "#### **- Inspeccionando el conjunto de datos**"
      ]
    },
    {
      "cell_type": "code",
      "metadata": {
        "id": "yQydjXExS1hI",
        "colab": {
          "base_uri": "https://localhost:8080/",
          "height": 809
        },
        "outputId": "ae36137f-3956-4de1-f6b6-17778e90a197"
      },
      "source": [
        "import matplotlib.pyplot as plt\n",
        "# Función auxiliar para visualizar datos de entrenamiento de manera aleatoria\n",
        "def display_digit(num):\n",
        "  # Seleccionar la imagen num de mnist.train.images y hacer un reshape al tamaño de la imagen\n",
        "  image = x_train[num,:].reshape([28,28]) #(X)\n",
        "  # Seleccionar el target num de mnist.train.labels (Recuerda que esta en one-hot encoding, conviertelo a decimal con argmax)\n",
        "  label = y_train[num] #(X)\n",
        "  # Mostrar\n",
        "  plt.title('Example: %d  Label: %d' % (num, label))\n",
        "  plt.imshow(image, cmap=plt.get_cmap('gray_r'))\n",
        "  plt.show()\n",
        "\n",
        "# Mostramos algunos ejemplos\n",
        "display_digit(np.random.randint(0, x_train.shape[0]))\n",
        "display_digit(np.random.randint(0, x_train.shape[0]))\n",
        "display_digit(np.random.randint(0, x_train.shape[0]))"
      ],
      "execution_count": null,
      "outputs": [
        {
          "output_type": "display_data",
          "data": {
            "image/png": "[encoded data removed]",
            "text/plain": [
              "<Figure size 432x288 with 1 Axes>"
            ]
          },
          "metadata": {
            "tags": [],
            "needs_background": "light"
          }
        },
        {
          "output_type": "display_data",
          "data": {
            "image/png": "[encoded data removed]",
            "text/plain": [
              "<Figure size 432x288 with 1 Axes>"
            ]
          },
          "metadata": {
            "tags": [],
            "needs_background": "light"
          }
        },
        {
          "output_type": "display_data",
          "data": {
            "image/png": "[encoded data removed]",
            "text/plain": [
              "<Figure size 432x288 with 1 Axes>"
            ]
          },
          "metadata": {
            "tags": [],
            "needs_background": "light"
          }
        }
      ]
    },
    {
      "cell_type": "markdown",
      "metadata": {
        "id": "meo3FjAr85We"
      },
      "source": [
        "#### **- Acondicionando el conjunto de datos**"
      ]
    },
    {
      "cell_type": "code",
      "metadata": {
        "id": "PrtVcOxow_JA",
        "colab": {
          "base_uri": "https://localhost:8080/"
        },
        "outputId": "2e59fba1-1fe2-4beb-efe6-ee5511b509ce"
      },
      "source": [
        "# Pre-procesado obligatorio cuando trabajo con redes neuronales\n",
        "from tensorflow.keras.utils import to_categorical\n",
        "from sklearn.model_selection import train_test_split\n",
        "\n",
        "x_train, x_te = x_train / 255.0, x_test / 255.0 #Cambio al rango 0-1 -> Disminuyo CC (Costo Computacional)\n",
        "y_train = to_categorical(y_train, num_classes=10) #One-hot encoding para minimizar error\n",
        "print(y_train.shape)\n",
        "y_te = to_categorical(y_test, num_classes=10)\n",
        "x_tr, x_val, y_tr, y_val = train_test_split(x_train, y_train, test_size=0.1, random_state=42) # 3 subconjuntos es de vital importancia\n",
        "print(y_tr.shape)\n",
        "# print(y_tr[0])"
      ],
      "execution_count": null,
      "outputs": [
        {
          "output_type": "stream",
          "text": [
            "(60000, 10)\n",
            "(54000, 10)\n"
          ],
          "name": "stdout"
        }
      ]
    },
    {
      "cell_type": "code",
      "metadata": {
        "id": "q010WRGbLI5P",
        "colab": {
          "base_uri": "https://localhost:8080/"
        },
        "outputId": "4e18d1c4-7b85-41f2-98a9-db7fc403b313"
      },
      "source": [
        "print(y_tr[36])\n",
        "print(y_tr[36].argmax(axis=0))"
      ],
      "execution_count": null,
      "outputs": [
        {
          "output_type": "stream",
          "text": [
            "[0. 0. 0. 0. 0. 1. 0. 0. 0. 0.]\n",
            "5\n"
          ],
          "name": "stdout"
        }
      ]
    },
    {
      "cell_type": "markdown",
      "metadata": {
        "id": "YBO56FZh89P3"
      },
      "source": [
        "#### **- Creando la topología de Red Neuronal (MLP) y entrenándola**"
      ]
    },
    {
      "cell_type": "code",
      "metadata": {
        "id": "7O8gSDXgyo4-"
      },
      "source": [
        "# Voy a necesitar importar una serie de modulos para programar mi red neuronal\n",
        "from tensorflow.keras.models import Sequential\n",
        "from tensorflow.keras.layers import Dense, Flatten\n",
        "# Vamos a codificar la topología de nuestra primera red neuronal!!!\n",
        "model = Sequential()\n",
        "model.add(Flatten())\n",
        "model.add(Dense(512, input_shape=(28*28,), activation=\"relu\"))\n",
        "model.add(Dense(10, activation=\"softmax\")) #Capa salida -> Mismo número de neuronas que de clases objetivo\n",
        "\n",
        "# Ahí tenemos nuestro primer MLP con una única capa oculta de 512 neuronas"
      ],
      "execution_count": null,
      "outputs": []
    },
    {
      "cell_type": "code",
      "metadata": {
        "id": "y0x4icp30SGE"
      },
      "source": [
        "#Traigamos nuestro optimizador\n",
        "from tensorflow.keras.optimizers import SGD\n",
        "# Ahora que tengo definida la arquitectura, la compilo\n",
        "model.compile(loss=\"categorical_crossentropy\", optimizer=SGD(0.005), metrics=[\"accuracy\"])"
      ],
      "execution_count": null,
      "outputs": []
    },
    {
      "cell_type": "code",
      "metadata": {
        "id": "iSWwUUWM1W7a",
        "colab": {
          "base_uri": "https://localhost:8080/"
        },
        "outputId": "b6fcc71f-679a-4cdc-a48c-5f5e8a1a9da0"
      },
      "source": [
        "# Por fin podemos entrenar nuestra primera red neuronal\n",
        "print(\"[INFO]: Entrenando red neuronal...\")\n",
        "H = model.fit(x_tr, y_tr, validation_data=(x_val, y_val), epochs=50, batch_size=128)"
      ],
      "execution_count": null,
      "outputs": [
        {
          "output_type": "stream",
          "text": [
            "[INFO]: Entrenando red neuronal...\n",
            "Epoch 1/50\n",
            "422/422 [==============================] - 3s 4ms/step - loss: 1.8609 - accuracy: 0.4880 - val_loss: 0.9855 - val_accuracy: 0.8145\n",
            "Epoch 2/50\n",
            "422/422 [==============================] - 1s 3ms/step - loss: 0.8695 - accuracy: 0.8263 - val_loss: 0.6558 - val_accuracy: 0.8552\n",
            "Epoch 3/50\n",
            "422/422 [==============================] - 1s 3ms/step - loss: 0.6178 - accuracy: 0.8601 - val_loss: 0.5332 - val_accuracy: 0.8722\n",
            "Epoch 4/50\n",
            "422/422 [==============================] - 1s 3ms/step - loss: 0.5158 - accuracy: 0.8736 - val_loss: 0.4692 - val_accuracy: 0.8828\n",
            "Epoch 5/50\n",
            "422/422 [==============================] - 1s 3ms/step - loss: 0.4626 - accuracy: 0.8815 - val_loss: 0.4295 - val_accuracy: 0.8908\n",
            "Epoch 6/50\n",
            "422/422 [==============================] - 1s 3ms/step - loss: 0.4219 - accuracy: 0.8898 - val_loss: 0.4016 - val_accuracy: 0.8940\n",
            "Epoch 7/50\n",
            "422/422 [==============================] - 1s 3ms/step - loss: 0.3921 - accuracy: 0.8965 - val_loss: 0.3810 - val_accuracy: 0.9003\n",
            "Epoch 8/50\n",
            "422/422 [==============================] - 1s 3ms/step - loss: 0.3818 - accuracy: 0.8957 - val_loss: 0.3645 - val_accuracy: 0.9015\n",
            "Epoch 9/50\n",
            "422/422 [==============================] - 1s 3ms/step - loss: 0.3623 - accuracy: 0.9013 - val_loss: 0.3511 - val_accuracy: 0.9052\n",
            "Epoch 10/50\n",
            "422/422 [==============================] - 1s 3ms/step - loss: 0.3520 - accuracy: 0.9023 - val_loss: 0.3405 - val_accuracy: 0.9072\n",
            "Epoch 11/50\n",
            "422/422 [==============================] - 1s 3ms/step - loss: 0.3373 - accuracy: 0.9074 - val_loss: 0.3304 - val_accuracy: 0.9112\n",
            "Epoch 12/50\n",
            "422/422 [==============================] - 1s 3ms/step - loss: 0.3288 - accuracy: 0.9090 - val_loss: 0.3221 - val_accuracy: 0.9128\n",
            "Epoch 13/50\n",
            "422/422 [==============================] - 1s 3ms/step - loss: 0.3203 - accuracy: 0.9114 - val_loss: 0.3147 - val_accuracy: 0.9142\n",
            "Epoch 14/50\n",
            "422/422 [==============================] - 1s 3ms/step - loss: 0.3174 - accuracy: 0.9112 - val_loss: 0.3078 - val_accuracy: 0.9158\n",
            "Epoch 15/50\n",
            "422/422 [==============================] - 1s 3ms/step - loss: 0.3090 - accuracy: 0.9139 - val_loss: 0.3017 - val_accuracy: 0.9185\n",
            "Epoch 16/50\n",
            "422/422 [==============================] - 1s 3ms/step - loss: 0.2980 - accuracy: 0.9181 - val_loss: 0.2964 - val_accuracy: 0.9192\n",
            "Epoch 17/50\n",
            "422/422 [==============================] - 1s 3ms/step - loss: 0.2951 - accuracy: 0.9190 - val_loss: 0.2917 - val_accuracy: 0.9215\n",
            "Epoch 18/50\n",
            "422/422 [==============================] - 1s 3ms/step - loss: 0.2906 - accuracy: 0.9195 - val_loss: 0.2869 - val_accuracy: 0.9222\n",
            "Epoch 19/50\n",
            "422/422 [==============================] - 1s 3ms/step - loss: 0.2897 - accuracy: 0.9202 - val_loss: 0.2818 - val_accuracy: 0.9233\n",
            "Epoch 20/50\n",
            "422/422 [==============================] - 1s 3ms/step - loss: 0.2799 - accuracy: 0.9217 - val_loss: 0.2778 - val_accuracy: 0.9238\n",
            "Epoch 21/50\n",
            "422/422 [==============================] - 1s 3ms/step - loss: 0.2777 - accuracy: 0.9232 - val_loss: 0.2738 - val_accuracy: 0.9260\n",
            "Epoch 22/50\n",
            "422/422 [==============================] - 1s 3ms/step - loss: 0.2729 - accuracy: 0.9237 - val_loss: 0.2699 - val_accuracy: 0.9262\n",
            "Epoch 23/50\n",
            "422/422 [==============================] - 1s 3ms/step - loss: 0.2696 - accuracy: 0.9255 - val_loss: 0.2663 - val_accuracy: 0.9287\n",
            "Epoch 24/50\n",
            "422/422 [==============================] - 1s 3ms/step - loss: 0.2626 - accuracy: 0.9268 - val_loss: 0.2628 - val_accuracy: 0.9290\n",
            "Epoch 25/50\n",
            "422/422 [==============================] - 1s 3ms/step - loss: 0.2638 - accuracy: 0.9267 - val_loss: 0.2593 - val_accuracy: 0.9307\n",
            "Epoch 26/50\n",
            "422/422 [==============================] - 1s 3ms/step - loss: 0.2588 - accuracy: 0.9282 - val_loss: 0.2562 - val_accuracy: 0.9305\n",
            "Epoch 27/50\n",
            "422/422 [==============================] - 1s 3ms/step - loss: 0.2566 - accuracy: 0.9279 - val_loss: 0.2530 - val_accuracy: 0.9320\n",
            "Epoch 28/50\n",
            "422/422 [==============================] - 1s 3ms/step - loss: 0.2508 - accuracy: 0.9310 - val_loss: 0.2504 - val_accuracy: 0.9327\n",
            "Epoch 29/50\n",
            "422/422 [==============================] - 1s 3ms/step - loss: 0.2547 - accuracy: 0.9298 - val_loss: 0.2474 - val_accuracy: 0.9330\n",
            "Epoch 30/50\n",
            "422/422 [==============================] - 1s 3ms/step - loss: 0.2448 - accuracy: 0.9322 - val_loss: 0.2444 - val_accuracy: 0.9338\n",
            "Epoch 31/50\n",
            "422/422 [==============================] - 1s 3ms/step - loss: 0.2445 - accuracy: 0.9311 - val_loss: 0.2417 - val_accuracy: 0.9348\n",
            "Epoch 32/50\n",
            "422/422 [==============================] - 1s 3ms/step - loss: 0.2403 - accuracy: 0.9333 - val_loss: 0.2392 - val_accuracy: 0.9350\n",
            "Epoch 33/50\n",
            "422/422 [==============================] - 1s 3ms/step - loss: 0.2357 - accuracy: 0.9363 - val_loss: 0.2370 - val_accuracy: 0.9358\n",
            "Epoch 34/50\n",
            "422/422 [==============================] - 1s 3ms/step - loss: 0.2380 - accuracy: 0.9340 - val_loss: 0.2343 - val_accuracy: 0.9370\n",
            "Epoch 35/50\n",
            "422/422 [==============================] - 1s 3ms/step - loss: 0.2291 - accuracy: 0.9378 - val_loss: 0.2318 - val_accuracy: 0.9380\n",
            "Epoch 36/50\n",
            "422/422 [==============================] - 1s 3ms/step - loss: 0.2271 - accuracy: 0.9362 - val_loss: 0.2294 - val_accuracy: 0.9392\n",
            "Epoch 37/50\n",
            "422/422 [==============================] - 1s 3ms/step - loss: 0.2302 - accuracy: 0.9353 - val_loss: 0.2273 - val_accuracy: 0.9390\n",
            "Epoch 38/50\n",
            "422/422 [==============================] - 1s 3ms/step - loss: 0.2245 - accuracy: 0.9378 - val_loss: 0.2251 - val_accuracy: 0.9385\n",
            "Epoch 39/50\n",
            "422/422 [==============================] - 1s 3ms/step - loss: 0.2281 - accuracy: 0.9376 - val_loss: 0.2232 - val_accuracy: 0.9392\n",
            "Epoch 40/50\n",
            "422/422 [==============================] - 1s 3ms/step - loss: 0.2188 - accuracy: 0.9395 - val_loss: 0.2209 - val_accuracy: 0.9395\n",
            "Epoch 41/50\n",
            "422/422 [==============================] - 1s 3ms/step - loss: 0.2143 - accuracy: 0.9413 - val_loss: 0.2186 - val_accuracy: 0.9403\n",
            "Epoch 42/50\n",
            "422/422 [==============================] - 1s 3ms/step - loss: 0.2125 - accuracy: 0.9421 - val_loss: 0.2168 - val_accuracy: 0.9408\n",
            "Epoch 43/50\n",
            "422/422 [==============================] - 1s 3ms/step - loss: 0.2140 - accuracy: 0.9405 - val_loss: 0.2147 - val_accuracy: 0.9417\n",
            "Epoch 44/50\n",
            "422/422 [==============================] - 1s 3ms/step - loss: 0.2119 - accuracy: 0.9412 - val_loss: 0.2128 - val_accuracy: 0.9418\n",
            "Epoch 45/50\n",
            "422/422 [==============================] - 1s 3ms/step - loss: 0.2124 - accuracy: 0.9419 - val_loss: 0.2111 - val_accuracy: 0.9425\n",
            "Epoch 46/50\n",
            "422/422 [==============================] - 1s 3ms/step - loss: 0.2048 - accuracy: 0.9440 - val_loss: 0.2092 - val_accuracy: 0.9438\n",
            "Epoch 47/50\n",
            "422/422 [==============================] - 1s 3ms/step - loss: 0.2050 - accuracy: 0.9433 - val_loss: 0.2073 - val_accuracy: 0.9442\n",
            "Epoch 48/50\n",
            "422/422 [==============================] - 1s 3ms/step - loss: 0.2016 - accuracy: 0.9440 - val_loss: 0.2058 - val_accuracy: 0.9448\n",
            "Epoch 49/50\n",
            "422/422 [==============================] - 1s 3ms/step - loss: 0.1973 - accuracy: 0.9455 - val_loss: 0.2040 - val_accuracy: 0.9452\n",
            "Epoch 50/50\n",
            "422/422 [==============================] - 1s 3ms/step - loss: 0.1997 - accuracy: 0.9458 - val_loss: 0.2025 - val_accuracy: 0.9455\n"
          ],
          "name": "stdout"
        }
      ]
    },
    {
      "cell_type": "markdown",
      "metadata": {
        "id": "EtR8fpxq9JRG"
      },
      "source": [
        "#### **- Observando el proceso de entrenamiento para tomar decisiones**"
      ]
    },
    {
      "cell_type": "code",
      "metadata": {
        "id": "R7OoJts-122A",
        "colab": {
          "base_uri": "https://localhost:8080/",
          "height": 316
        },
        "outputId": "211c310e-4a66-41cb-d86b-7b887c8eadd8"
      },
      "source": [
        "# Muestro gráfica de accuracy y losses\n",
        "plt.style.use(\"ggplot\")\n",
        "plt.figure()\n",
        "plt.plot(np.arange(0, 50), H.history[\"loss\"], label=\"train_loss\")\n",
        "plt.plot(np.arange(0, 50), H.history[\"val_loss\"], label=\"val_loss\")\n",
        "plt.plot(np.arange(0, 50), H.history[\"accuracy\"], label=\"train_acc\")\n",
        "plt.plot(np.arange(0, 50), H.history[\"val_accuracy\"], label=\"val_acc\")\n",
        "plt.title(\"Training Loss and Accuracy\")\n",
        "plt.xlabel(\"Epoch #\")\n",
        "plt.ylabel(\"Loss/Accuracy\")\n",
        "plt.legend()"
      ],
      "execution_count": null,
      "outputs": [
        {
          "output_type": "execute_result",
          "data": {
            "text/plain": [
              "<matplotlib.legend.Legend at 0x7f5adbeec5c0>"
            ]
          },
          "metadata": {
            "tags": []
          },
          "execution_count": 9
        },
        {
          "output_type": "display_data",
          "data": {
            "image/png": "[encoded data removed]",
            "text/plain": [
              "<Figure size 432x288 with 1 Axes>"
            ]
          },
          "metadata": {
            "tags": []
          }
        }
      ]
    },
    {
      "cell_type": "markdown",
      "metadata": {
        "id": "7ll4EzHI9Of5"
      },
      "source": [
        "#### **- Probando el conjunto de datos en el subset de test y evaluando el performance del modelo**"
      ]
    },
    {
      "cell_type": "code",
      "metadata": {
        "id": "7J38sfBN742h",
        "colab": {
          "base_uri": "https://localhost:8080/"
        },
        "outputId": "1e55d733-579e-42fc-c3e0-239ad0877da6"
      },
      "source": [
        "from sklearn.metrics import classification_report\n",
        "# Evaluando el modelo de predicción con las imágenes de test\n",
        "print(\"[INFO]: Evaluando red neuronal...\")\n",
        "predictions = model.predict(x_te, batch_size=128)\n",
        "print(y_te[0])\n",
        "print(predictions[0])\n",
        "print(classification_report(y_te.argmax(axis=1), predictions.argmax(axis=1)))"
      ],
      "execution_count": null,
      "outputs": [
        {
          "output_type": "stream",
          "text": [
            "[INFO]: Evaluando red neuronal...\n",
            "[0. 0. 0. 0. 0. 0. 0. 1. 0. 0.]\n",
            "[6.0238573e-05 6.7321571e-07 3.5478669e-04 2.5264076e-03 2.7598262e-06\n",
            " 8.4581137e-05 5.0927284e-08 9.9642700e-01 2.3355526e-05 5.2015111e-04]\n",
            "              precision    recall  f1-score   support\n",
            "\n",
            "           0       0.96      0.98      0.97       980\n",
            "           1       0.98      0.98      0.98      1135\n",
            "           2       0.94      0.94      0.94      1032\n",
            "           3       0.93      0.94      0.93      1010\n",
            "           4       0.94      0.95      0.94       982\n",
            "           5       0.94      0.91      0.93       892\n",
            "           6       0.95      0.96      0.95       958\n",
            "           7       0.95      0.93      0.94      1028\n",
            "           8       0.93      0.92      0.93       974\n",
            "           9       0.94      0.92      0.93      1009\n",
            "\n",
            "    accuracy                           0.95     10000\n",
            "   macro avg       0.94      0.94      0.94     10000\n",
            "weighted avg       0.95      0.95      0.95     10000\n",
            "\n"
          ],
          "name": "stdout"
        }
      ]
    },
    {
      "cell_type": "code",
      "metadata": {
        "id": "WkmoMIHpDkJN",
        "colab": {
          "base_uri": "https://localhost:8080/"
        },
        "outputId": "bba4e03f-ce76-49ac-ed74-291aa4441246"
      },
      "source": [
        "print(model.summary())"
      ],
      "execution_count": null,
      "outputs": [
        {
          "output_type": "stream",
          "text": [
            "Model: \"sequential\"\n",
            "_________________________________________________________________\n",
            "Layer (type)                 Output Shape              Param #   \n",
            "=================================================================\n",
            "flatten (Flatten)            (None, 784)               0         \n",
            "_________________________________________________________________\n",
            "dense (Dense)                (None, 512)               401920    \n",
            "_________________________________________________________________\n",
            "dense_1 (Dense)              (None, 10)                5130      \n",
            "=================================================================\n",
            "Total params: 407,050\n",
            "Trainable params: 407,050\n",
            "Non-trainable params: 0\n",
            "_________________________________________________________________\n",
            "None\n"
          ],
          "name": "stdout"
        }
      ]
    },
    {
      "cell_type": "markdown",
      "metadata": {
        "id": "zQ5iYaP4-TdJ"
      },
      "source": [
        "--------------------------------------------------------------------------"
      ]
    },
    {
      "cell_type": "markdown",
      "metadata": {
        "id": "gkAfYEmB-KGU"
      },
      "source": [
        "## **MLP APLICADO A TEXTO: EJEMPLO REUTERS**"
      ]
    },
    {
      "cell_type": "markdown",
      "metadata": {
        "id": "rtdAIq1JQPNA"
      },
      "source": [
        "#### **- Cargando el conjunto de datos**"
      ]
    },
    {
      "cell_type": "code",
      "metadata": {
        "id": "2mHvSYFm-Sp_",
        "colab": {
          "base_uri": "https://localhost:8080/"
        },
        "outputId": "4472a9e4-3638-4d74-e3f8-b52de4660b0b"
      },
      "source": [
        "import numpy as np\n",
        "import tensorflow as tf\n",
        "# Importamos el dataset REUTERS y cargamos los datos\n",
        "reuters = tf.keras.datasets.reuters\n",
        "WORD_LIMIT = 10000\n",
        "(training_data, training_labels), (testing_data, testing_labels) = reuters.load_data(num_words=WORD_LIMIT)\n",
        "print(training_data.shape)\n",
        "print(training_labels.shape)\n",
        "print(testing_data.shape)\n",
        "print(testing_labels.shape)"
      ],
      "execution_count": null,
      "outputs": [
        {
          "output_type": "stream",
          "text": [
            "Downloading data from https://storage.googleapis.com/tensorflow/tf-keras-datasets/reuters.npz\n",
            "2113536/2110848 [==============================] - 0s 0us/step\n",
            "(8982,)\n",
            "(8982,)\n",
            "(2246,)\n",
            "(2246,)\n"
          ],
          "name": "stdout"
        }
      ]
    },
    {
      "cell_type": "markdown",
      "metadata": {
        "id": "426afMQqQUxn"
      },
      "source": [
        "#### **- Inspeccionando el conjunto de datos**"
      ]
    },
    {
      "cell_type": "code",
      "metadata": {
        "id": "Ab4lT3HI-reW",
        "colab": {
          "base_uri": "https://localhost:8080/"
        },
        "outputId": "f2cceeca-0219-4f8c-be8b-49b4bafc73d6"
      },
      "source": [
        "# Los datos son numericos para decodificarlos, se puede usar reuters.get_word_index()\n",
        "word_index = reuters.get_word_index()\n",
        "reverse_word_index = dict({value : key for key, value in word_index.items()})\n",
        "decoded = ' '.join(\n",
        "    [reverse_word_index.get(i-3,'?') for i in training_data[77]]\n",
        ")\n",
        "decoded"
      ],
      "execution_count": null,
      "outputs": [
        {
          "output_type": "execute_result",
          "data": {
            "application/vnd.google.colaboratory.intrinsic+json": {
              "type": "string"
            },
            "text/plain": [
              "'? the european commission confirmed it authorised the export of 60 500 tonnes of current series white sugar at a maximum rebate of 43 147 european currency units ecus per 100 kilos out of this traders in the u k received 43 500 tonnes in the netherlands 12 000 in denmark 4 000 and in west germany 1 000 tonnes reuter 3'"
            ]
          },
          "metadata": {
            "tags": []
          },
          "execution_count": 3
        }
      ]
    },
    {
      "cell_type": "markdown",
      "metadata": {
        "id": "Hl1Ke92bQiI2"
      },
      "source": [
        "#### **- Acondicionando el conjunto de datos**"
      ]
    },
    {
      "cell_type": "code",
      "metadata": {
        "id": "I5ojr41ZAE6G"
      },
      "source": [
        "# Función auxiliar para representar las palabras (que no entiende nuestra red neuronal) en números \n",
        "import numpy as np\n",
        "# one hot encoding del input, vector con cada indice indicando si una palabra esta presente\n",
        "def one_hot_encode(data):\n",
        "    encoded = np.zeros((len(data),WORD_LIMIT))\n",
        "    for i, v in enumerate(data):\n",
        "        encoded[i,v] = 1 # localiza las columnas del genero correspondiente, marca con 1\n",
        "    return encoded"
      ],
      "execution_count": null,
      "outputs": []
    },
    {
      "cell_type": "code",
      "metadata": {
        "id": "4wubOmYpBgAY",
        "colab": {
          "base_uri": "https://localhost:8080/"
        },
        "outputId": "f8d9c7aa-0107-48db-8508-3940ebf0955a"
      },
      "source": [
        "# Convertimos nuestras palabras a números\n",
        "x_train = one_hot_encode(training_data)\n",
        "x_test = one_hot_encode(testing_data)\n",
        "print(x_train.shape)\n",
        "print(x_test.shape)"
      ],
      "execution_count": null,
      "outputs": [
        {
          "output_type": "stream",
          "text": [
            "(8982, 10000)\n",
            "(2246, 10000)\n"
          ],
          "name": "stdout"
        }
      ]
    },
    {
      "cell_type": "code",
      "metadata": {
        "id": "_fdTGJavvsv-",
        "colab": {
          "base_uri": "https://localhost:8080/"
        },
        "outputId": "7c5f4f3c-19a0-4f71-a7fe-2ac508894006"
      },
      "source": [
        "print(x_test[3])"
      ],
      "execution_count": null,
      "outputs": [
        {
          "output_type": "stream",
          "text": [
            "[0. 1. 1. ... 0. 0. 0.]\n"
          ],
          "name": "stdout"
        }
      ]
    },
    {
      "cell_type": "code",
      "metadata": {
        "id": "dliil59FByFv",
        "colab": {
          "base_uri": "https://localhost:8080/"
        },
        "outputId": "29c02cf3-03e3-484d-970f-d1cb89c05c12"
      },
      "source": [
        "# Convertimos nuestros labels (categoría reseña) a one-hot encoding\n",
        "from tensorflow.keras.utils import to_categorical\n",
        "y_train = to_categorical(training_labels)\n",
        "y_test = to_categorical(testing_labels)\n",
        "print(y_train.shape)\n",
        "print(y_test.shape)"
      ],
      "execution_count": null,
      "outputs": [
        {
          "output_type": "stream",
          "text": [
            "(8982, 46)\n",
            "(2246, 46)\n"
          ],
          "name": "stdout"
        }
      ]
    },
    {
      "cell_type": "code",
      "metadata": {
        "id": "G0SGmbI7uYlx",
        "colab": {
          "base_uri": "https://localhost:8080/"
        },
        "outputId": "a664cf6c-c4ca-4bbb-80ec-0339a7e3d58d"
      },
      "source": [
        "print(y_test[3])"
      ],
      "execution_count": null,
      "outputs": [
        {
          "output_type": "stream",
          "text": [
            "[0. 0. 0. 0. 1. 0. 0. 0. 0. 0. 0. 0. 0. 0. 0. 0. 0. 0. 0. 0. 0. 0. 0. 0.\n",
            " 0. 0. 0. 0. 0. 0. 0. 0. 0. 0. 0. 0. 0. 0. 0. 0. 0. 0. 0. 0. 0. 0.]\n"
          ],
          "name": "stdout"
        }
      ]
    },
    {
      "cell_type": "markdown",
      "metadata": {
        "id": "qf2H-OHKQrGN"
      },
      "source": [
        "#### **- Creando la topología de Red Neuronal (MLP) y entrenándola**"
      ]
    },
    {
      "cell_type": "code",
      "metadata": {
        "id": "QSR1GEq0_Ebm"
      },
      "source": [
        "from tensorflow.keras.models import Sequential\n",
        "from tensorflow.keras.layers import Dense\n",
        "# Vamos a codificar la topología de nuestro MLP\n",
        "model = Sequential()\n",
        "model.add(Dense(128,activation='relu',input_shape=(WORD_LIMIT,)))\n",
        "model.add(Dense(64,activation='relu'))\n",
        "model.add(Dense(46,activation='softmax')) # Reparto de la unidad de probabilidad entre num_classes"
      ],
      "execution_count": null,
      "outputs": []
    },
    {
      "cell_type": "code",
      "metadata": {
        "id": "POnCbSEzCI7o"
      },
      "source": [
        "# Ahora que tengo definida la arquitectura, la compilo\n",
        "model.compile(optimizer='adam',\n",
        "               loss='categorical_crossentropy', # ideal para clasificacion multiclase\n",
        "               metrics=['accuracy'])"
      ],
      "execution_count": null,
      "outputs": []
    },
    {
      "cell_type": "code",
      "metadata": {
        "id": "VZBvK2HjDCaZ",
        "colab": {
          "base_uri": "https://localhost:8080/",
          "height": 689
        },
        "outputId": "e8297b72-1147-4e44-df76-bf1e6cf54d6a"
      },
      "source": [
        "# A entrenar nuestra red neuronal sea dicho!\n",
        "H = model.fit(x_train,y_train,epochs=20,batch_size=32, validation_split=0.2)"
      ],
      "execution_count": null,
      "outputs": [
        {
          "output_type": "stream",
          "text": [
            "Epoch 1/20\n",
            "225/225 [==============================] - 1s 4ms/step - loss: 1.4489 - accuracy: 0.6799 - val_loss: 0.9870 - val_accuracy: 0.7824\n",
            "Epoch 2/20\n",
            "225/225 [==============================] - 1s 3ms/step - loss: 0.5423 - accuracy: 0.8818 - val_loss: 0.8898 - val_accuracy: 0.8091\n",
            "Epoch 3/20\n",
            "225/225 [==============================] - 1s 3ms/step - loss: 0.2685 - accuracy: 0.9415 - val_loss: 0.8949 - val_accuracy: 0.8080\n",
            "Epoch 4/20\n",
            "225/225 [==============================] - 1s 3ms/step - loss: 0.1928 - accuracy: 0.9552 - val_loss: 0.9110 - val_accuracy: 0.8058\n",
            "Epoch 5/20\n",
            "225/225 [==============================] - 1s 3ms/step - loss: 0.1656 - accuracy: 0.9559 - val_loss: 0.9455 - val_accuracy: 0.7986\n",
            "Epoch 6/20\n",
            "225/225 [==============================] - 1s 3ms/step - loss: 0.1409 - accuracy: 0.9595 - val_loss: 0.9633 - val_accuracy: 0.8002\n",
            "Epoch 7/20\n",
            "225/225 [==============================] - 1s 3ms/step - loss: 0.1288 - accuracy: 0.9599 - val_loss: 0.9955 - val_accuracy: 0.8063\n",
            "Epoch 8/20\n",
            "225/225 [==============================] - 1s 3ms/step - loss: 0.1206 - accuracy: 0.9594 - val_loss: 1.0132 - val_accuracy: 0.7986\n",
            "Epoch 9/20\n",
            "225/225 [==============================] - 1s 3ms/step - loss: 0.1178 - accuracy: 0.9606 - val_loss: 1.0012 - val_accuracy: 0.8091\n",
            "Epoch 10/20\n",
            "225/225 [==============================] - 1s 3ms/step - loss: 0.1106 - accuracy: 0.9584 - val_loss: 1.0214 - val_accuracy: 0.7991\n",
            "Epoch 11/20\n",
            "225/225 [==============================] - 1s 3ms/step - loss: 0.1033 - accuracy: 0.9609 - val_loss: 1.0453 - val_accuracy: 0.8030\n",
            "Epoch 12/20\n",
            "225/225 [==============================] - 1s 3ms/step - loss: 0.0947 - accuracy: 0.9626 - val_loss: 1.0638 - val_accuracy: 0.8052\n",
            "Epoch 13/20\n",
            "225/225 [==============================] - 1s 3ms/step - loss: 0.0957 - accuracy: 0.9608 - val_loss: 1.0961 - val_accuracy: 0.7986\n",
            "Epoch 14/20\n",
            "225/225 [==============================] - 1s 3ms/step - loss: 0.0888 - accuracy: 0.9624 - val_loss: 1.0950 - val_accuracy: 0.8013\n",
            "Epoch 15/20\n",
            "225/225 [==============================] - 1s 3ms/step - loss: 0.0837 - accuracy: 0.9626 - val_loss: 1.1649 - val_accuracy: 0.7980\n",
            "Epoch 16/20\n",
            "225/225 [==============================] - 1s 3ms/step - loss: 0.0830 - accuracy: 0.9624 - val_loss: 1.1435 - val_accuracy: 0.8019\n",
            "Epoch 17/20\n",
            "225/225 [==============================] - 1s 3ms/step - loss: 0.0828 - accuracy: 0.9620 - val_loss: 1.1824 - val_accuracy: 0.7980\n",
            "Epoch 18/20\n",
            "225/225 [==============================] - 1s 3ms/step - loss: 0.0806 - accuracy: 0.9620 - val_loss: 1.1677 - val_accuracy: 0.8052\n",
            "Epoch 19/20\n",
            "225/225 [==============================] - 1s 3ms/step - loss: 0.0810 - accuracy: 0.9617 - val_loss: 1.2033 - val_accuracy: 0.7986\n",
            "Epoch 20/20\n",
            "225/225 [==============================] - 1s 3ms/step - loss: 0.0769 - accuracy: 0.9630 - val_loss: 1.2174 - val_accuracy: 0.7963\n"
          ],
          "name": "stdout"
        }
      ]
    },
    {
      "cell_type": "markdown",
      "metadata": {
        "id": "0WZi4xSxQwGR"
      },
      "source": [
        "#### **- Observando el proceso de entrenamiento para tomar decisiones**"
      ]
    },
    {
      "cell_type": "code",
      "metadata": {
        "id": "0dlv_bkZDVJ7",
        "colab": {
          "base_uri": "https://localhost:8080/",
          "height": 316
        },
        "outputId": "cba01477-ea5c-445c-dd2d-37a9df15f927"
      },
      "source": [
        "import matplotlib.pyplot as plt\n",
        "# Muestro gráfica de accuracy y losses\n",
        "plt.style.use(\"ggplot\")\n",
        "plt.figure()\n",
        "plt.plot(np.arange(0, 20), H.history[\"loss\"], label=\"train_loss\")\n",
        "plt.plot(np.arange(0, 20), H.history[\"val_loss\"], label=\"val_loss\")\n",
        "plt.plot(np.arange(0, 20), H.history[\"accuracy\"], label=\"train_acc\")\n",
        "plt.plot(np.arange(0, 20), H.history[\"val_accuracy\"], label=\"val_acc\")\n",
        "plt.title(\"Training Loss and Accuracy\")\n",
        "plt.xlabel(\"Epoch #\")\n",
        "plt.ylabel(\"Loss/Accuracy\")\n",
        "plt.legend()"
      ],
      "execution_count": null,
      "outputs": [
        {
          "output_type": "execute_result",
          "data": {
            "text/plain": [
              "<matplotlib.legend.Legend at 0x7ff7b130da58>"
            ]
          },
          "metadata": {
            "tags": []
          },
          "execution_count": 13
        },
        {
          "output_type": "display_data",
          "data": {
            "image/png": "[encoded data removed]",
            "text/plain": [
              "<Figure size 432x288 with 1 Axes>"
            ]
          },
          "metadata": {
            "tags": []
          }
        }
      ]
    },
    {
      "cell_type": "markdown",
      "metadata": {
        "id": "c51cfGAQQ2cR"
      },
      "source": [
        "#### **- Probando el conjunto de datos en el subset de test y evaluando el performance del modelo**"
      ]
    },
    {
      "cell_type": "code",
      "metadata": {
        "id": "xVS5SAU5DlHP",
        "colab": {
          "base_uri": "https://localhost:8080/",
          "height": 67
        },
        "outputId": "381187a8-bf08-43c7-b09b-bb07d1c7983f"
      },
      "source": [
        "# Evaluando el modelo de predicción con las imágenes de test\n",
        "print(\"[INFO]: Evaluando red neuronal...\")\n",
        "model.predict(x_test)\n",
        "loss, accuracy = model.evaluate(x_test, y_test)\n",
        "print('Loss {}, accuracy {}'.format(loss,accuracy))"
      ],
      "execution_count": null,
      "outputs": [
        {
          "output_type": "stream",
          "text": [
            "[INFO]: Evaluando red neuronal...\n",
            "71/71 [==============================] - 0s 2ms/step - loss: 1.3067 - accuracy: 0.7894\n",
            "Loss 1.3066856861114502, accuracy 0.7894033789634705\n"
          ],
          "name": "stdout"
        }
      ]
    },
    {
      "cell_type": "markdown",
      "metadata": {
        "id": "s8kmri-kUYgx"
      },
      "source": [
        "## **REGULARIZACIÓN EN APRENDIZAJE PROFUNDO**"
      ]
    },
    {
      "cell_type": "markdown",
      "metadata": {
        "id": "aqDYEumsUuNU"
      },
      "source": [
        "#### **- Weight regularization L1/L2**"
      ]
    },
    {
      "cell_type": "code",
      "metadata": {
        "id": "BF2YYooRUNph"
      },
      "source": [
        "from tensorflow.keras.models import Sequential\n",
        "from tensorflow.keras.layers import Dense\n",
        "from tensorflow.keras import regularizers\n",
        "# Vamos a codificar la topología de nuestro MLP\n",
        "model_reg = Sequential()\n",
        "model_reg.add(Dense(128,activation='relu', kernel_regularizer=regularizers.l2(0.01), input_shape=(WORD_LIMIT,)))\n",
        "model_reg.add(Dense(64,activation='relu', kernel_regularizer=regularizers.l2(0.01)))\n",
        "model_reg.add(Dense(46,activation='softmax')) # Reparto de la unidad de probabilidad entre num_classes"
      ],
      "execution_count": null,
      "outputs": []
    },
    {
      "cell_type": "code",
      "metadata": {
        "id": "KYeK7jwxVSF3"
      },
      "source": [
        "# Ahora que tengo definida la arquitectura, la compilo\n",
        "model_reg.compile(optimizer='adam',\n",
        "               loss='categorical_crossentropy', # ideal para clasificacion multiclase\n",
        "               metrics=['accuracy'])"
      ],
      "execution_count": null,
      "outputs": []
    },
    {
      "cell_type": "code",
      "metadata": {
        "id": "gWE7GTTmVdP0",
        "colab": {
          "base_uri": "https://localhost:8080/",
          "height": 689
        },
        "outputId": "80dc04b4-4bc5-491f-c4a3-3ea2725c5207"
      },
      "source": [
        "# A entrenar nuestra red neuronal sea dicho!\n",
        "H = model_reg.fit(x_train,y_train,epochs=20,batch_size=32, validation_split=0.2)"
      ],
      "execution_count": null,
      "outputs": [
        {
          "output_type": "stream",
          "text": [
            "Epoch 1/20\n",
            "225/225 [==============================] - 1s 4ms/step - loss: 2.3797 - accuracy: 0.6526 - val_loss: 1.8195 - val_accuracy: 0.7034\n",
            "Epoch 2/20\n",
            "225/225 [==============================] - 1s 3ms/step - loss: 1.6968 - accuracy: 0.7335 - val_loss: 1.7036 - val_accuracy: 0.7284\n",
            "Epoch 3/20\n",
            "225/225 [==============================] - 1s 3ms/step - loss: 1.5981 - accuracy: 0.7542 - val_loss: 1.6592 - val_accuracy: 0.7273\n",
            "Epoch 4/20\n",
            "225/225 [==============================] - 1s 3ms/step - loss: 1.5508 - accuracy: 0.7602 - val_loss: 1.6300 - val_accuracy: 0.7474\n",
            "Epoch 5/20\n",
            "225/225 [==============================] - 1s 3ms/step - loss: 1.5123 - accuracy: 0.7740 - val_loss: 1.6277 - val_accuracy: 0.7529\n",
            "Epoch 6/20\n",
            "225/225 [==============================] - 1s 3ms/step - loss: 1.4705 - accuracy: 0.7794 - val_loss: 1.5938 - val_accuracy: 0.7652\n",
            "Epoch 7/20\n",
            "225/225 [==============================] - 1s 3ms/step - loss: 1.4405 - accuracy: 0.7879 - val_loss: 1.5357 - val_accuracy: 0.7641\n",
            "Epoch 8/20\n",
            "225/225 [==============================] - 1s 3ms/step - loss: 1.4093 - accuracy: 0.7933 - val_loss: 1.5286 - val_accuracy: 0.7691\n",
            "Epoch 9/20\n",
            "225/225 [==============================] - 1s 3ms/step - loss: 1.3829 - accuracy: 0.8017 - val_loss: 1.5599 - val_accuracy: 0.7574\n",
            "Epoch 10/20\n",
            "225/225 [==============================] - 1s 3ms/step - loss: 1.3629 - accuracy: 0.8007 - val_loss: 1.5112 - val_accuracy: 0.7858\n",
            "Epoch 11/20\n",
            "225/225 [==============================] - 1s 3ms/step - loss: 1.3310 - accuracy: 0.8049 - val_loss: 1.5122 - val_accuracy: 0.7691\n",
            "Epoch 12/20\n",
            "225/225 [==============================] - 1s 3ms/step - loss: 1.3016 - accuracy: 0.8117 - val_loss: 1.4891 - val_accuracy: 0.7796\n",
            "Epoch 13/20\n",
            "225/225 [==============================] - 1s 3ms/step - loss: 1.2678 - accuracy: 0.8185 - val_loss: 1.4942 - val_accuracy: 0.7685\n",
            "Epoch 14/20\n",
            "225/225 [==============================] - 1s 3ms/step - loss: 1.2483 - accuracy: 0.8203 - val_loss: 1.4908 - val_accuracy: 0.7679\n",
            "Epoch 15/20\n",
            "225/225 [==============================] - 1s 3ms/step - loss: 1.2306 - accuracy: 0.8241 - val_loss: 1.5155 - val_accuracy: 0.7629\n",
            "Epoch 16/20\n",
            "225/225 [==============================] - 1s 3ms/step - loss: 1.1958 - accuracy: 0.8298 - val_loss: 1.4577 - val_accuracy: 0.7741\n",
            "Epoch 17/20\n",
            "225/225 [==============================] - 1s 3ms/step - loss: 1.1808 - accuracy: 0.8347 - val_loss: 1.4552 - val_accuracy: 0.7763\n",
            "Epoch 18/20\n",
            "225/225 [==============================] - 1s 4ms/step - loss: 1.1545 - accuracy: 0.8342 - val_loss: 1.4158 - val_accuracy: 0.7835\n",
            "Epoch 19/20\n",
            "225/225 [==============================] - 1s 3ms/step - loss: 1.1395 - accuracy: 0.8390 - val_loss: 1.4365 - val_accuracy: 0.7774\n",
            "Epoch 20/20\n",
            "225/225 [==============================] - 1s 3ms/step - loss: 1.1143 - accuracy: 0.8487 - val_loss: 1.4129 - val_accuracy: 0.7880\n"
          ],
          "name": "stdout"
        }
      ]
    },
    {
      "cell_type": "code",
      "metadata": {
        "id": "iJvo8YVvVowt",
        "colab": {
          "base_uri": "https://localhost:8080/",
          "height": 316
        },
        "outputId": "601b1650-bc08-4bd9-b897-8629cf5f31d2"
      },
      "source": [
        "import matplotlib.pyplot as plt\n",
        "# Muestro gráfica de accuracy y losses\n",
        "plt.style.use(\"ggplot\")\n",
        "plt.figure()\n",
        "plt.plot(np.arange(0, 20), H.history[\"loss\"], label=\"train_loss\")\n",
        "plt.plot(np.arange(0, 20), H.history[\"val_loss\"], label=\"val_loss\")\n",
        "plt.plot(np.arange(0, 20), H.history[\"accuracy\"], label=\"train_acc\")\n",
        "plt.plot(np.arange(0, 20), H.history[\"val_accuracy\"], label=\"val_acc\")\n",
        "plt.title(\"Training Loss and Accuracy\")\n",
        "plt.xlabel(\"Epoch #\")\n",
        "plt.ylabel(\"Loss/Accuracy\")\n",
        "plt.legend()"
      ],
      "execution_count": null,
      "outputs": [
        {
          "output_type": "execute_result",
          "data": {
            "text/plain": [
              "<matplotlib.legend.Legend at 0x7ff7b167ca20>"
            ]
          },
          "metadata": {
            "tags": []
          },
          "execution_count": 18
        },
        {
          "output_type": "display_data",
          "data": {
            "image/png": "[encoded data removed]",
            "text/plain": [
              "<Figure size 432x288 with 1 Axes>"
            ]
          },
          "metadata": {
            "tags": []
          }
        }
      ]
    },
    {
      "cell_type": "code",
      "metadata": {
        "id": "h_68GciZWEml",
        "colab": {
          "base_uri": "https://localhost:8080/",
          "height": 67
        },
        "outputId": "894eea96-e720-4f9c-f5c5-8d545c2b50b3"
      },
      "source": [
        "# Evaluando el modelo de predicción con las imágenes de test\n",
        "print(\"[INFO]: Evaluando red neuronal...\")\n",
        "model.predict(x_test)\n",
        "loss, accuracy = model.evaluate(x_test, y_test)\n",
        "print('Loss {}, accuracy {}'.format(loss,accuracy))"
      ],
      "execution_count": null,
      "outputs": [
        {
          "output_type": "stream",
          "text": [
            "[INFO]: Evaluando red neuronal...\n",
            "71/71 [==============================] - 0s 2ms/step - loss: 1.3067 - accuracy: 0.7894\n",
            "Loss 1.3066856861114502, accuracy 0.7894033789634705\n"
          ],
          "name": "stdout"
        }
      ]
    },
    {
      "cell_type": "markdown",
      "metadata": {
        "id": "FKflRMxEWQ3Z"
      },
      "source": [
        "#### **- Dropout**"
      ]
    },
    {
      "cell_type": "code",
      "metadata": {
        "id": "iRcnwjCCWVcW"
      },
      "source": [
        "from tensorflow.keras.models import Sequential\n",
        "from tensorflow.keras.layers import Dense, Dropout\n",
        "# Vamos a codificar la topología de nuestro MLP\n",
        "model_drop = Sequential()\n",
        "model_drop.add(Dense(128,activation='relu', input_shape=(WORD_LIMIT,)))\n",
        "#model_drop.add(Dropout(0.5))\n",
        "model_drop.add(Dropout(0.75))\n",
        "model_drop.add(Dense(64,activation='relu'))\n",
        "#model_drop.add(Dropout(0.5))\n",
        "model_drop.add(Dropout(0.75))\n",
        "model_drop.add(Dense(46,activation='softmax')) # Reparto de la unidad de probabilidad entre num_classes"
      ],
      "execution_count": null,
      "outputs": []
    },
    {
      "cell_type": "code",
      "metadata": {
        "id": "6K_X-SnoWnqL"
      },
      "source": [
        "# Ahora que tengo definida la arquitectura, la compilo\n",
        "model_drop.compile(optimizer='adam',\n",
        "               loss='categorical_crossentropy', # ideal para clasificacion multiclase\n",
        "               metrics=['accuracy'])"
      ],
      "execution_count": null,
      "outputs": []
    },
    {
      "cell_type": "code",
      "metadata": {
        "id": "5GSMILsYWsT8",
        "colab": {
          "base_uri": "https://localhost:8080/",
          "height": 689
        },
        "outputId": "8d614cf3-1746-4da4-9ba9-de4da5fe5ebe"
      },
      "source": [
        "# A entrenar nuestra red neuronal sea dicho!\n",
        "H = model_drop.fit(x_train,y_train,epochs=20,batch_size=32, validation_split=0.2)"
      ],
      "execution_count": null,
      "outputs": [
        {
          "output_type": "stream",
          "text": [
            "Epoch 1/20\n",
            "225/225 [==============================] - 1s 4ms/step - loss: 2.4942 - accuracy: 0.3884 - val_loss: 1.6770 - val_accuracy: 0.6088\n",
            "Epoch 2/20\n",
            "225/225 [==============================] - 1s 3ms/step - loss: 1.8544 - accuracy: 0.5336 - val_loss: 1.4986 - val_accuracy: 0.6772\n",
            "Epoch 3/20\n",
            "225/225 [==============================] - 1s 3ms/step - loss: 1.6942 - accuracy: 0.5872 - val_loss: 1.4117 - val_accuracy: 0.6984\n",
            "Epoch 4/20\n",
            "225/225 [==============================] - 1s 3ms/step - loss: 1.5601 - accuracy: 0.6248 - val_loss: 1.3299 - val_accuracy: 0.7067\n",
            "Epoch 5/20\n",
            "225/225 [==============================] - 1s 3ms/step - loss: 1.4658 - accuracy: 0.6398 - val_loss: 1.2838 - val_accuracy: 0.7145\n",
            "Epoch 6/20\n",
            "225/225 [==============================] - 1s 3ms/step - loss: 1.4200 - accuracy: 0.6512 - val_loss: 1.2640 - val_accuracy: 0.7129\n",
            "Epoch 7/20\n",
            "225/225 [==============================] - 1s 3ms/step - loss: 1.3695 - accuracy: 0.6600 - val_loss: 1.2643 - val_accuracy: 0.7140\n",
            "Epoch 8/20\n",
            "225/225 [==============================] - 1s 4ms/step - loss: 1.3071 - accuracy: 0.6754 - val_loss: 1.2638 - val_accuracy: 0.7173\n",
            "Epoch 9/20\n",
            "225/225 [==============================] - 1s 4ms/step - loss: 1.2671 - accuracy: 0.6856 - val_loss: 1.2500 - val_accuracy: 0.7312\n",
            "Epoch 10/20\n",
            "225/225 [==============================] - 1s 4ms/step - loss: 1.2295 - accuracy: 0.6905 - val_loss: 1.2474 - val_accuracy: 0.7112\n",
            "Epoch 11/20\n",
            "225/225 [==============================] - 1s 4ms/step - loss: 1.2138 - accuracy: 0.6932 - val_loss: 1.2439 - val_accuracy: 0.7234\n",
            "Epoch 12/20\n",
            "225/225 [==============================] - 1s 4ms/step - loss: 1.1828 - accuracy: 0.6994 - val_loss: 1.2636 - val_accuracy: 0.7284\n",
            "Epoch 13/20\n",
            "225/225 [==============================] - 1s 3ms/step - loss: 1.1580 - accuracy: 0.7044 - val_loss: 1.2441 - val_accuracy: 0.7346\n",
            "Epoch 14/20\n",
            "225/225 [==============================] - 1s 3ms/step - loss: 1.1335 - accuracy: 0.7065 - val_loss: 1.2693 - val_accuracy: 0.7301\n",
            "Epoch 15/20\n",
            "225/225 [==============================] - 1s 4ms/step - loss: 1.1082 - accuracy: 0.7147 - val_loss: 1.2825 - val_accuracy: 0.7373\n",
            "Epoch 16/20\n",
            "225/225 [==============================] - 1s 3ms/step - loss: 1.0924 - accuracy: 0.7176 - val_loss: 1.2684 - val_accuracy: 0.7390\n",
            "Epoch 17/20\n",
            "225/225 [==============================] - 1s 4ms/step - loss: 1.0925 - accuracy: 0.7144 - val_loss: 1.2807 - val_accuracy: 0.7368\n",
            "Epoch 18/20\n",
            "225/225 [==============================] - 1s 3ms/step - loss: 1.0619 - accuracy: 0.7212 - val_loss: 1.2972 - val_accuracy: 0.7535\n",
            "Epoch 19/20\n",
            "225/225 [==============================] - 1s 4ms/step - loss: 1.0412 - accuracy: 0.7289 - val_loss: 1.3006 - val_accuracy: 0.7435\n",
            "Epoch 20/20\n",
            "225/225 [==============================] - 1s 3ms/step - loss: 1.0197 - accuracy: 0.7324 - val_loss: 1.3256 - val_accuracy: 0.7457\n"
          ],
          "name": "stdout"
        }
      ]
    },
    {
      "cell_type": "code",
      "metadata": {
        "id": "ACSQkFMtW2Eg",
        "colab": {
          "base_uri": "https://localhost:8080/",
          "height": 316
        },
        "outputId": "58403e59-7417-4bc7-d899-de25b87c230e"
      },
      "source": [
        "import matplotlib.pyplot as plt\n",
        "# Muestro gráfica de accuracy y losses\n",
        "plt.style.use(\"ggplot\")\n",
        "plt.figure()\n",
        "plt.plot(np.arange(0, 20), H.history[\"loss\"], label=\"train_loss\")\n",
        "plt.plot(np.arange(0, 20), H.history[\"val_loss\"], label=\"val_loss\")\n",
        "plt.plot(np.arange(0, 20), H.history[\"accuracy\"], label=\"train_acc\")\n",
        "plt.plot(np.arange(0, 20), H.history[\"val_accuracy\"], label=\"val_acc\")\n",
        "plt.title(\"Training Loss and Accuracy\")\n",
        "plt.xlabel(\"Epoch #\")\n",
        "plt.ylabel(\"Loss/Accuracy\")\n",
        "plt.legend()\n",
        "\n",
        "# ¿Y si desconectamos mayor porcentaje de neuronas?"
      ],
      "execution_count": null,
      "outputs": [
        {
          "output_type": "execute_result",
          "data": {
            "text/plain": [
              "<matplotlib.legend.Legend at 0x7ff7b0cb37b8>"
            ]
          },
          "metadata": {
            "tags": []
          },
          "execution_count": 31
        },
        {
          "output_type": "display_data",
          "data": {
            "image/png": "[encoded data removed]",
            "text/plain": [
              "<Figure size 432x288 with 1 Axes>"
            ]
          },
          "metadata": {
            "tags": []
          }
        }
      ]
    },
    {
      "cell_type": "code",
      "metadata": {
        "id": "KzK4LsLmW2es",
        "colab": {
          "base_uri": "https://localhost:8080/",
          "height": 67
        },
        "outputId": "7757f3ae-3e8b-4d0d-d72d-6ab96124ae68"
      },
      "source": [
        "# Evaluando el modelo de predicción con las imágenes de test\n",
        "print(\"[INFO]: Evaluando red neuronal...\")\n",
        "model.predict(x_test)\n",
        "loss, accuracy = model.evaluate(x_test, y_test)\n",
        "print('Loss {}, accuracy {}'.format(loss,accuracy))"
      ],
      "execution_count": null,
      "outputs": [
        {
          "output_type": "stream",
          "text": [
            "[INFO]: Evaluando red neuronal...\n",
            "71/71 [==============================] - 0s 2ms/step - loss: 1.3067 - accuracy: 0.7894\n",
            "Loss 1.3066856861114502, accuracy 0.7894033789634705\n"
          ],
          "name": "stdout"
        }
      ]
    },
    {
      "cell_type": "markdown",
      "metadata": {
        "id": "6iixwidpaJSH"
      },
      "source": [
        "#### **- Batch Normalization**"
      ]
    },
    {
      "cell_type": "code",
      "metadata": {
        "id": "kX7JV1leaJrj"
      },
      "source": [
        "from tensorflow.keras.models import Sequential\n",
        "from tensorflow.keras.layers import Dense, BatchNormalization\n",
        "# Vamos a codificar la topología de nuestro MLP\n",
        "model_bn = Sequential()\n",
        "model_bn.add(Dense(128,activation='relu', input_shape=(WORD_LIMIT,)))\n",
        "model_bn.add(BatchNormalization())\n",
        "model_bn.add(Dropout(0.75))\n",
        "model_bn.add(Dense(64,activation='relu'))\n",
        "model_bn.add(BatchNormalization())\n",
        "model_bn.add(Dropout(0.75))\n",
        "model_bn.add(Dense(46,activation='softmax')) # Reparto de la unidad de probabilidad entre num_classes"
      ],
      "execution_count": null,
      "outputs": []
    },
    {
      "cell_type": "code",
      "metadata": {
        "id": "iEW9qiRzbtpk"
      },
      "source": [
        "# Ahora que tengo definida la arquitectura, la compilo\n",
        "model_bn.compile(optimizer='adam',\n",
        "               loss='categorical_crossentropy', # ideal para clasificacion multiclase\n",
        "               metrics=['accuracy'])"
      ],
      "execution_count": null,
      "outputs": []
    },
    {
      "cell_type": "code",
      "metadata": {
        "id": "Ey72ZUlJbwPK",
        "colab": {
          "base_uri": "https://localhost:8080/",
          "height": 689
        },
        "outputId": "80edc263-82b6-496e-f54b-70a8595399d7"
      },
      "source": [
        "# A entrenar nuestra red neuronal sea dicho!\n",
        "H = model_bn.fit(x_train,y_train,epochs=20,batch_size=32, validation_split=0.2)"
      ],
      "execution_count": null,
      "outputs": [
        {
          "output_type": "stream",
          "text": [
            "Epoch 1/20\n",
            "225/225 [==============================] - 1s 5ms/step - loss: 3.4875 - accuracy: 0.3073 - val_loss: 1.9786 - val_accuracy: 0.6010\n",
            "Epoch 2/20\n",
            "225/225 [==============================] - 1s 4ms/step - loss: 2.1030 - accuracy: 0.5591 - val_loss: 1.4550 - val_accuracy: 0.6861\n",
            "Epoch 3/20\n",
            "225/225 [==============================] - 1s 4ms/step - loss: 1.8282 - accuracy: 0.6031 - val_loss: 1.3497 - val_accuracy: 0.7062\n",
            "Epoch 4/20\n",
            "225/225 [==============================] - 1s 4ms/step - loss: 1.6146 - accuracy: 0.6359 - val_loss: 1.2759 - val_accuracy: 0.7112\n",
            "Epoch 5/20\n",
            "225/225 [==============================] - 1s 4ms/step - loss: 1.5228 - accuracy: 0.6561 - val_loss: 1.2286 - val_accuracy: 0.7123\n",
            "Epoch 6/20\n",
            "225/225 [==============================] - 1s 4ms/step - loss: 1.4212 - accuracy: 0.6754 - val_loss: 1.1993 - val_accuracy: 0.7234\n",
            "Epoch 7/20\n",
            "225/225 [==============================] - 1s 4ms/step - loss: 1.3764 - accuracy: 0.6825 - val_loss: 1.1554 - val_accuracy: 0.7401\n",
            "Epoch 8/20\n",
            "225/225 [==============================] - 1s 4ms/step - loss: 1.3055 - accuracy: 0.6991 - val_loss: 1.1227 - val_accuracy: 0.7385\n",
            "Epoch 9/20\n",
            "225/225 [==============================] - 1s 4ms/step - loss: 1.2438 - accuracy: 0.7045 - val_loss: 1.0992 - val_accuracy: 0.7468\n",
            "Epoch 10/20\n",
            "225/225 [==============================] - 1s 4ms/step - loss: 1.2096 - accuracy: 0.7104 - val_loss: 1.0800 - val_accuracy: 0.7490\n",
            "Epoch 11/20\n",
            "225/225 [==============================] - 1s 4ms/step - loss: 1.1588 - accuracy: 0.7179 - val_loss: 1.0623 - val_accuracy: 0.7574\n",
            "Epoch 12/20\n",
            "225/225 [==============================] - 1s 4ms/step - loss: 1.1166 - accuracy: 0.7305 - val_loss: 1.0558 - val_accuracy: 0.7607\n",
            "Epoch 13/20\n",
            "225/225 [==============================] - 1s 4ms/step - loss: 1.0906 - accuracy: 0.7333 - val_loss: 1.0325 - val_accuracy: 0.7635\n",
            "Epoch 14/20\n",
            "225/225 [==============================] - 1s 4ms/step - loss: 1.0549 - accuracy: 0.7443 - val_loss: 1.0329 - val_accuracy: 0.7657\n",
            "Epoch 15/20\n",
            "225/225 [==============================] - 1s 4ms/step - loss: 1.0215 - accuracy: 0.7466 - val_loss: 1.0248 - val_accuracy: 0.7718\n",
            "Epoch 16/20\n",
            "225/225 [==============================] - 1s 4ms/step - loss: 1.0222 - accuracy: 0.7482 - val_loss: 1.0223 - val_accuracy: 0.7674\n",
            "Epoch 17/20\n",
            "225/225 [==============================] - 1s 4ms/step - loss: 0.9859 - accuracy: 0.7556 - val_loss: 1.0183 - val_accuracy: 0.7741\n",
            "Epoch 18/20\n",
            "225/225 [==============================] - 1s 5ms/step - loss: 0.9646 - accuracy: 0.7620 - val_loss: 1.0020 - val_accuracy: 0.7819\n",
            "Epoch 19/20\n",
            "225/225 [==============================] - 1s 4ms/step - loss: 0.9325 - accuracy: 0.7665 - val_loss: 1.0114 - val_accuracy: 0.7807\n",
            "Epoch 20/20\n",
            "225/225 [==============================] - 1s 4ms/step - loss: 0.9103 - accuracy: 0.7698 - val_loss: 1.0219 - val_accuracy: 0.7802\n"
          ],
          "name": "stdout"
        }
      ]
    },
    {
      "cell_type": "code",
      "metadata": {
        "id": "WE6c1PHIbybn",
        "colab": {
          "base_uri": "https://localhost:8080/",
          "height": 316
        },
        "outputId": "982061e4-2cf7-41b9-8dba-94ce3e333cfd"
      },
      "source": [
        "import matplotlib.pyplot as plt\n",
        "# Muestro gráfica de accuracy y losses\n",
        "plt.style.use(\"ggplot\")\n",
        "plt.figure()\n",
        "plt.plot(np.arange(0, 20), H.history[\"loss\"], label=\"train_loss\")\n",
        "plt.plot(np.arange(0, 20), H.history[\"val_loss\"], label=\"val_loss\")\n",
        "plt.plot(np.arange(0, 20), H.history[\"accuracy\"], label=\"train_acc\")\n",
        "plt.plot(np.arange(0, 20), H.history[\"val_accuracy\"], label=\"val_acc\")\n",
        "plt.title(\"Training Loss and Accuracy\")\n",
        "plt.xlabel(\"Epoch #\")\n",
        "plt.ylabel(\"Loss/Accuracy\")\n",
        "plt.legend()"
      ],
      "execution_count": null,
      "outputs": [
        {
          "output_type": "execute_result",
          "data": {
            "text/plain": [
              "<matplotlib.legend.Legend at 0x7ff7b062d6d8>"
            ]
          },
          "metadata": {
            "tags": []
          },
          "execution_count": 36
        },
        {
          "output_type": "display_data",
          "data": {
            "image/png": "[encoded data removed]",
            "text/plain": [
              "<Figure size 432x288 with 1 Axes>"
            ]
          },
          "metadata": {
            "tags": []
          }
        }
      ]
    },
    {
      "cell_type": "code",
      "metadata": {
        "id": "7AY7mJ3mb1C1",
        "colab": {
          "base_uri": "https://localhost:8080/",
          "height": 67
        },
        "outputId": "453d37a2-b2fb-4a28-aae2-0fe46b135302"
      },
      "source": [
        "# Evaluando el modelo de predicción con las imágenes de test\n",
        "print(\"[INFO]: Evaluando red neuronal...\")\n",
        "model.predict(x_test)\n",
        "loss, accuracy = model.evaluate(x_test, y_test)\n",
        "print('Loss {}, accuracy {}'.format(loss,accuracy))"
      ],
      "execution_count": null,
      "outputs": [
        {
          "output_type": "stream",
          "text": [
            "[INFO]: Evaluando red neuronal...\n",
            "71/71 [==============================] - 0s 2ms/step - loss: 1.3067 - accuracy: 0.7894\n",
            "Loss 1.3066856861114502, accuracy 0.7894033789634705\n"
          ],
          "name": "stdout"
        }
      ]
    }
  ]
}